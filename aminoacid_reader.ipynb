{
 "cells": [
  {
   "cell_type": "code",
   "execution_count": 1,
   "id": "f9e17163",
   "metadata": {},
   "outputs": [
    {
     "name": "stdout",
     "output_type": "stream",
     "text": [
      "This program take in input a DNA sequence and calculate the numbers of codond inside, \n",
      "showing them in a decreasing order.\n"
     ]
    }
   ],
   "source": [
    "import os\n",
    "path_this_dir = os.getcwd()\n",
    "name_file = 'dna_string_example.txt'\n",
    "file = open(path_this_dir+os.sep+'input'+os.sep+name_file, \"r\")\n",
    "dna = file.read()\n",
    "print('This program take in input a DNA sequence and calculate the numbers of codond inside, \\nshowing them in a decreasing order.')\n",
    "# print(dna)"
   ]
  },
  {
   "cell_type": "code",
   "execution_count": 2,
   "id": "97d92551",
   "metadata": {},
   "outputs": [],
   "source": [
    "dict_dna = {'Ala': ['GCT', 'GCC', 'GCA', 'GCG'],\n",
    " 'Leu': ['TTA', 'TTG', 'CTT', 'CTC', 'CTA', 'CTG'],\n",
    " 'Arg': ['CGT', 'CGC', 'CGA', 'CGG', 'AGA', 'AGG'],\n",
    " 'Lys': ['AAA', 'AAG'],\n",
    " 'Asn': ['AAT', 'AAC'],\n",
    " 'Met': ['ATG'],\n",
    " 'Asp': ['GAT', 'GAC'],\n",
    " 'Phe': ['TTT', 'TTC'],\n",
    " 'Cys': ['TGT', 'TGC'],\n",
    " 'Pro': ['CCT', 'CCC', 'CCA', 'CCG'],\n",
    " 'Gln': ['CAA', 'CAG'],\n",
    " 'Ser': ['TCT', 'TCC', 'TCA', 'TCG', 'AGT', 'AGC'],\n",
    " 'Glu': ['GAA', 'GAG'],\n",
    " 'Thr': ['ACT', 'ACC', 'ACA', 'ACG'],\n",
    " 'Gly': ['GGT', 'GGC', 'GGA', 'GGG'],\n",
    " 'Trp': ['TGG'],\n",
    " 'His': ['CAT', 'CAC'],\n",
    " 'Tyr': ['TAT', 'TAC'],\n",
    " 'Ile': ['ATT', 'ATC', 'ATA'],\n",
    " 'Val': ['GTT', 'GTC', 'GTA', 'GTG'],\n",
    " 'stop': ['TAG', 'TGA', 'TAA']}\n",
    "\n",
    "dict_triple2aminoacid = {}\n",
    "for k, v in dict_dna.items():\n",
    "    for triple in v:\n",
    "        dict_triple2aminoacid[triple] = k\n"
   ]
  },
  {
   "cell_type": "code",
   "execution_count": 3,
   "id": "72a6532c",
   "metadata": {},
   "outputs": [],
   "source": [
    "n = 3\n",
    "dna_split = [dna[i:i+n] for i in range(0, len(dna), n)]"
   ]
  },
  {
   "cell_type": "code",
   "execution_count": 4,
   "id": "40d100c4",
   "metadata": {
    "scrolled": true
   },
   "outputs": [],
   "source": [
    "dict_aminoacid_count = {k:0 for k in dict_dna.keys()}\n",
    "\n",
    "flag = False\n",
    "for triple in dna_split:\n",
    "    if len(triple) == 3:\n",
    "        try:\n",
    "            aminoacid = dict_triple2aminoacid[triple]\n",
    "            dict_aminoacid_count[aminoacid] +=1\n",
    "        except:\n",
    "            flag = True\n",
    "            print('There is a character not allowed in DNA sequance')\n",
    "            print('Review the DNA sequance and play this program again')\n",
    "            print('The only characters allowed are A,C,G,T')\n",
    "\n",
    "list_decrease = sorted(dict_aminoacid_count.items(), key=lambda item: item[1])[::-1]\n",
    "dict_aminoacid_count_sorted = {k:v for k, v in list_decrease}"
   ]
  },
  {
   "cell_type": "code",
   "execution_count": 5,
   "id": "be3c0d76",
   "metadata": {
    "scrolled": true
   },
   "outputs": [
    {
     "name": "stdout",
     "output_type": "stream",
     "text": [
      "Aminoacid: Leu , count: 4\n",
      "Aminoacid: Val , count: 3\n",
      "Aminoacid: Ser , count: 3\n",
      "Aminoacid: Ile , count: 2\n",
      "Aminoacid: Phe , count: 2\n",
      "Aminoacid: Asp , count: 2\n",
      "Aminoacid: Arg , count: 2\n",
      "Aminoacid: Gln , count: 1\n",
      "Aminoacid: Pro , count: 1\n",
      "Aminoacid: Asn , count: 1\n",
      "Aminoacid: Ala , count: 1\n",
      "Aminoacid: Tyr , count: 0\n",
      "Aminoacid: His , count: 0\n",
      "Aminoacid: Trp , count: 0\n",
      "Aminoacid: Gly , count: 0\n",
      "Aminoacid: Thr , count: 0\n",
      "Aminoacid: Glu , count: 0\n",
      "Aminoacid: Cys , count: 0\n",
      "Aminoacid: Met , count: 0\n",
      "Aminoacid: Lys , count: 0\n",
      "\n",
      "Numbers of stops codons: 0\n"
     ]
    }
   ],
   "source": [
    "if not flag:\n",
    "    for k,v in dict_aminoacid_count_sorted.items():\n",
    "        if k != 'stop':\n",
    "            print('Aminoacid:',k,', count:',v)\n",
    "        \n",
    "    print('\\nNumbers of stops codons:', dict_aminoacid_count_sorted['stop'])"
   ]
  },
  {
   "cell_type": "code",
   "execution_count": null,
   "id": "f25ffe75",
   "metadata": {},
   "outputs": [],
   "source": []
  },
  {
   "cell_type": "code",
   "execution_count": null,
   "id": "ceaa1410",
   "metadata": {},
   "outputs": [],
   "source": []
  }
 ],
 "metadata": {
  "kernelspec": {
   "display_name": "Python 3 (ipykernel)",
   "language": "python",
   "name": "python3"
  },
  "language_info": {
   "codemirror_mode": {
    "name": "ipython",
    "version": 3
   },
   "file_extension": ".py",
   "mimetype": "text/x-python",
   "name": "python",
   "nbconvert_exporter": "python",
   "pygments_lexer": "ipython3",
   "version": "3.9.7"
  }
 },
 "nbformat": 4,
 "nbformat_minor": 5
}
